{
  "metadata": {
    "kernelspec": {
      "name": "xpython",
      "display_name": "Python 3.13 (XPython)",
      "language": "python"
    },
    "language_info": {
      "file_extension": ".py",
      "mimetype": "text/x-python",
      "name": "python",
      "version": "3.13.1"
    }
  },
  "nbformat_minor": 5,
  "nbformat": 4,
  "cells": [
    {
      "id": "9d8b566f-c715-4f4c-b3ed-148a1ec96ef4",
      "cell_type": "code",
      "source": "!pip install kafka-python",
      "metadata": {
        "trusted": true
      },
      "outputs": [],
      "execution_count": null
    },
    {
      "id": "ff8cf655-e8f1-477e-8656-c70d6b8679ee",
      "cell_type": "code",
      "source": "import pandas as pd\nfrom kafka import KafkaProducer\nfrom time import sleep\nfrom json import dumps\nimport json",
      "metadata": {
        "trusted": true
      },
      "outputs": [],
      "execution_count": null
    },
    {
      "id": "4dc38de2-e930-4c62-a71f-217fae5da8bb",
      "cell_type": "code",
      "source": "producer = KafkaProducer(bootstrap_servers=['{your public ip EC2}:9092'], #change ip here\n                         value_serializer=lambda x: \n                         dumps(x).encode('utf-8'))",
      "metadata": {
        "trusted": true
      },
      "outputs": [],
      "execution_count": null
    },
    {
      "id": "2b349ffc-be5f-47fa-95d9-b7fab82d6927",
      "cell_type": "code",
      "source": "producer.send('demo_test', value={'abcd':'abcd'})",
      "metadata": {
        "trusted": true
      },
      "outputs": [],
      "execution_count": null
    },
    {
      "id": "685a5ef3-3f65-4398-a80f-baadabb5b1a3",
      "cell_type": "code",
      "source": "df = pd.read_csv(\"data/indexProcessed.csv\")",
      "metadata": {
        "trusted": true
      },
      "outputs": [],
      "execution_count": null
    },
    {
      "id": "98022dd6-572b-446a-a7ef-2c9a1039d2c1",
      "cell_type": "code",
      "source": "df.head()",
      "metadata": {
        "trusted": true
      },
      "outputs": [],
      "execution_count": null
    },
    {
      "id": "2cd7b790-03d8-457a-a7cd-36c7e94d1229",
      "cell_type": "code",
      "source": "while True:\n    dict_stock = df.sample(1).to_dict(orient=\"records\")[0]\n    producer.send('demo_test', value=dict_stock)\n    sleep(1)",
      "metadata": {
        "trusted": true
      },
      "outputs": [],
      "execution_count": null
    },
    {
      "id": "8995c3c5-f2db-4423-855c-66f1359e0f40",
      "cell_type": "code",
      "source": "producer.flush() #clear data from kafka server",
      "metadata": {
        "trusted": true
      },
      "outputs": [],
      "execution_count": null
    },
    {
      "id": "a40404e4-abe8-438d-bb5f-77191be4de18",
      "cell_type": "code",
      "source": "",
      "metadata": {
        "trusted": true
      },
      "outputs": [],
      "execution_count": null
    },
    {
      "id": "5059538d-c1a4-43a8-bba5-b46c8e89c2ea",
      "cell_type": "code",
      "source": "",
      "metadata": {
        "trusted": true
      },
      "outputs": [],
      "execution_count": null
    }
  ]
}