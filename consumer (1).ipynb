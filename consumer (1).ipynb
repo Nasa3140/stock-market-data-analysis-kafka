{
  "metadata": {
    "kernelspec": {
      "name": "xpython",
      "display_name": "Python 3.13 (XPython)",
      "language": "python"
    },
    "language_info": {
      "file_extension": ".py",
      "mimetype": "text/x-python",
      "name": "python",
      "version": "3.13.1"
    }
  },
  "nbformat_minor": 5,
  "nbformat": 4,
  "cells": [
    {
      "id": "2d98c80b-8185-4622-838d-a7f0455cd738",
      "cell_type": "code",
      "source": "from kafka import KafkaConsumer\nfrom time import sleep\nfrom json import dumps,loads\nimport json\nfrom s3fs import S3FileSystem",
      "metadata": {
        "trusted": true
      },
      "outputs": [],
      "execution_count": null
    },
    {
      "id": "77f5f8d4-96f7-487a-a17c-8f40d4b56074",
      "cell_type": "code",
      "source": "consumer = KafkaConsumer(\n    'demo_test',\n     bootstrap_servers=[':9092'], #add your IP here\n    value_deserializer=lambda x: loads(x.decode('utf-8')))",
      "metadata": {
        "trusted": true
      },
      "outputs": [],
      "execution_count": null
    },
    {
      "id": "a7073d4d-4bf0-420d-979d-c09d09085691",
      "cell_type": "code",
      "source": "# for c in consumer:\n#     print(c.value)",
      "metadata": {
        "trusted": true
      },
      "outputs": [],
      "execution_count": null
    },
    {
      "id": "8648f3a3-90b9-42c8-9c8e-19a0cb1c84f2",
      "cell_type": "code",
      "source": "s3 = S3FileSystem()",
      "metadata": {
        "trusted": true
      },
      "outputs": [],
      "execution_count": null
    },
    {
      "id": "057e422b-652e-4144-8087-fcffa784663e",
      "cell_type": "code",
      "source": "for count, i in enumerate(consumer):\n    with s3.open(\"s3://path.json\".format(count), 'w') as file:\n        json.dump(i.value, file)   ",
      "metadata": {
        "trusted": true
      },
      "outputs": [],
      "execution_count": null
    },
    {
      "id": "ea522bca-0468-4d14-99aa-7f1d78c38a03",
      "cell_type": "code",
      "source": "",
      "metadata": {
        "trusted": true
      },
      "outputs": [],
      "execution_count": null
    }
  ]
}